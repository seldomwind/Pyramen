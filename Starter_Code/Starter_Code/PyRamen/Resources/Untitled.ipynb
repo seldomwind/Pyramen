{
 "cells": [
  {
   "cell_type": "code",
   "execution_count": null,
   "id": "f48635a3-89bb-48fe-b7b7-ba6d27d496eb",
   "metadata": {},
   "outputs": [],
   "source": []
  },
  {
   "cell_type": "code",
   "execution_count": null,
   "id": "e666ff20-1d6a-4c19-acc0-2c5df9f0f3fd",
   "metadata": {},
   "outputs": [],
   "source": []
  }
 ],
 "metadata": {
  "kernelspec": {
   "display_name": "Python 3 (ipykernel)",
   "language": "python",
   "name": "python3"
  },
  "language_info": {
   "codemirror_mode": {
    "name": "ipython",
    "version": 3
   },
   "file_extension": ".py",
   "mimetype": "text/x-python",
   "name": "python",
   "nbconvert_exporter": "python",
   "pygments_lexer": "ipython3",
   "version": "3.7.13"
  }
 },
 "nbformat": 4,
 "nbformat_minor": 5
}
