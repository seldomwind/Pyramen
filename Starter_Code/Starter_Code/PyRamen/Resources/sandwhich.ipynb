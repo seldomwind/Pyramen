{
 "cells": [
  {
   "cell_type": "code",
   "execution_count": 11,
   "id": "1b4c1d6f-0245-490b-b245-28c368968dd2",
   "metadata": {},
   "outputs": [
    {
     "name": "stdin",
     "output_type": "stream",
     "text": [
      "Welcome to the sandwich shop, what do I call you? g\n"
     ]
    },
    {
     "name": "stdout",
     "output_type": "stream",
     "text": [
      "Hello, g\n"
     ]
    },
    {
     "name": "stdin",
     "output_type": "stream",
     "text": [
      "Are you here for a sandwich? (Y/N) fdsg\n"
     ]
    },
    {
     "name": "stdout",
     "output_type": "stream",
     "text": [
      "You did not write Y or N!\n"
     ]
    }
   ],
   "source": [
    "# Declare a variable `welcome_name` as an input with a string of \"Welcome to the sandwich shop, what do I call you? \".\n",
    "\n",
    "welcome_name = input(\"Welcome to the sandwich shop, what do I call you?\")\n",
    "# Then print the string \"Hello\" concatenated with the variable `welcome_name`.\n",
    "print(f\"Hello, {welcome_name}\")\n",
    "\n",
    "\n",
    "# Declare a variable `question_sandwich` as an input with a string of \"Are you here for a sandwich? (Y/N) \".\n",
    "question_sandwich = input(\"Are you here for a sandwich? (Y/N)\").lower()\n",
    "\n",
    "# If `question_sandwich` is equal to \"Y\" or \"y\" declare a variable `food_prompt` as an input with a string of \"What kind of sandwich would you like?\".\n",
    "if question_sandwich == \"y\":\n",
    "    food_prompt = input(\"What kind of sandwich would you like?\")\n",
    "    \n",
    "# Then print a string of \"Please wait 10 min for your \" concatenated with the variable `food_prompt`.\n",
    "    print(f\"Please wait 10 min for your {food_prompt}\")\n",
    "\n",
    "    # Else If `question_sandwich` is \"N\" or \"n\", print a string of \"If you don't want a sandwich what are you here for?!\".\n",
    "elif question_sandwich == \"n\":\n",
    "    print(\"If you don't want a sandwich what are you here for?!\")\n",
    "\n",
    "    # Else print a string of \"You did not write Y or N!\"\n",
    "\n",
    "else:\n",
    "          print(\"You did not write Y or N!\")"
   ]
  },
  {
   "cell_type": "code",
   "execution_count": null,
   "id": "beecd9d3-52f0-4e5c-a998-78e03f1e4087",
   "metadata": {},
   "outputs": [],
   "source": []
  }
 ],
 "metadata": {
  "kernelspec": {
   "display_name": "Python 3 (ipykernel)",
   "language": "python",
   "name": "python3"
  },
  "language_info": {
   "codemirror_mode": {
    "name": "ipython",
    "version": 3
   },
   "file_extension": ".py",
   "mimetype": "text/x-python",
   "name": "python",
   "nbconvert_exporter": "python",
   "pygments_lexer": "ipython3",
   "version": "3.7.13"
  }
 },
 "nbformat": 4,
 "nbformat_minor": 5
}
