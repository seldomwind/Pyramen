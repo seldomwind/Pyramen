{
 "cells": [
  {
   "cell_type": "code",
   "execution_count": 84,
   "id": "ccf92f93-c26f-44a9-983a-deb38590448f",
   "metadata": {},
   "outputs": [],
   "source": [
    "#importing csv and pandas library, loading csv file in data variable\n",
    "import  csv\n",
    "import pandas as pd\n",
    "Menu_data = pd.read_csv(\"C:/Users/Admin/Desktop/2ndchallenge/Starter_Code/Starter_Code/Pyramen/Resources/menu_data.csv\")\n",
    "Sales_data = pd.read_csv(\"C:/Users/Admin/Desktop/2ndchallenge/Starter_Code/Starter_Code/Pyramen/Resources/sales_data.csv\")"
   ]
  },
  {
   "cell_type": "code",
   "execution_count": 85,
   "id": "36e36428-265b-4258-8c10-d01be2af732b",
   "metadata": {},
   "outputs": [],
   "source": [
    "menu = []\n",
    "sales =[]\n",
    "with open(\"C:/Users/Admin/Desktop/2ndchallenge/Starter_Code/Starter_Code/Pyramen/Resources/menu_data.csv\",'r') as file:\n",
    "\n",
    "    csvreaded = csv.reader(file)\n",
    "    header = next(csvreaded)\n",
    "    for row in csvreaded:\n",
    "        menu.append(row)"
   ]
  },
  {
   "cell_type": "code",
   "execution_count": 86,
   "id": "9becf64f-8f75-4e4e-8300-aa3eb078dc8b",
   "metadata": {},
   "outputs": [],
   "source": [
    "with open(\"C:/Users/Admin/Desktop/2ndchallenge/Starter_Code/Starter_Code/Pyramen/Resources/sales_data.csv\",'r') as file:\n",
    "\n",
    "    csvreaded = csv.reader(file)\n",
    "    header = next(csvreaded)\n",
    "    for row in csvreaded:\n",
    "        sales.append(row)"
   ]
  },
  {
   "cell_type": "code",
   "execution_count": 87,
   "id": "f08b2867-760d-4757-8a83-b27527cdf574",
   "metadata": {},
   "outputs": [],
   "source": [
    "report_dic = {}"
   ]
  },
  {
   "cell_type": "code",
   "execution_count": null,
   "id": "63665673-a2bb-43ad-8892-a72917f7ad36",
   "metadata": {},
   "outputs": [],
   "source": []
  },
  {
   "cell_type": "code",
   "execution_count": null,
   "id": "651f683b-0088-4096-a2fd-3a40e56f5d61",
   "metadata": {},
   "outputs": [],
   "source": []
  },
  {
   "cell_type": "code",
   "execution_count": null,
   "id": "64d00214-1d65-4b02-9d36-bfb8bd157030",
   "metadata": {},
   "outputs": [],
   "source": []
  }
 ],
 "metadata": {
  "kernelspec": {
   "display_name": "Python 3 (ipykernel)",
   "language": "python",
   "name": "python3"
  },
  "language_info": {
   "codemirror_mode": {
    "name": "ipython",
    "version": 3
   },
   "file_extension": ".py",
   "mimetype": "text/x-python",
   "name": "python",
   "nbconvert_exporter": "python",
   "pygments_lexer": "ipython3",
   "version": "3.9.12"
  }
 },
 "nbformat": 4,
 "nbformat_minor": 5
}
