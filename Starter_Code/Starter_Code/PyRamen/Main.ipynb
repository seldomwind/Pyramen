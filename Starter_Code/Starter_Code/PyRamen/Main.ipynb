{
 "cells": [
  {
   "cell_type": "code",
   "execution_count": 6,
   "id": "ccf92f93-c26f-44a9-983a-deb38590448f",
   "metadata": {},
   "outputs": [],
   "source": [
    "#importing csv and pandas library, loading csv file in data variable\n",
    "import  csv\n",
    "import pandas as pd\n",
    "from pathlib import Path\n",
    "Menu_data = pd.read_csv(\"C:/Users/Admin/Desktop/2ndchallenge/Starter_Code/Starter_Code/Pyramen/Resources/menu_data.csv\")\n",
    "Sales_data = pd.read_csv(\"C:/Users/Admin/Desktop/2ndchallenge/Starter_Code/Starter_Code/Pyramen/Resources/sales_data.csv\")"
   ]
  },
  {
   "cell_type": "code",
   "execution_count": 7,
   "id": "36e36428-265b-4258-8c10-d01be2af732b",
   "metadata": {},
   "outputs": [],
   "source": [
    "#Initialize an empty menu list object to hold the contents of menu_data.csv\n",
    "menu_data = {}\n",
    "\n",
    "#Use a with statement and open the menu_data.csv by using its file path.Use the reader function from the csv library to begin reading menu_data.csv.\n",
    "#Use the next function to skip the header (first row of the CSV).\n",
    "#Loop over the rest of the rows and append every row to the menu list object (the outcome will be a list of lists).\n",
    "\n",
    "with open(\"C:/Users/Admin/Desktop/2ndchallenge/Starter_Code/Starter_Code/Pyramen/Resources/menu_data.csv\",'r') as csvfile:\n",
    "    csvreader = csv.reader(csvfile)\n",
    "    header = next(csvreader)\n",
    "    for row in csvreader:\n",
    "        menu_data[row[0]] = [row[1], row[2], row[3],row[4]]\n"
   ]
  },
  {
   "cell_type": "code",
   "execution_count": 8,
   "id": "9becf64f-8f75-4e4e-8300-aa3eb078dc8b",
   "metadata": {},
   "outputs": [],
   "source": [
    "#same process to read in sales_data.csv. However, instead append every row of the sales data to a new sales list object.\n",
    "sales_data =[]\n",
    "with open(\"C:/Users/Admin/Desktop/2ndchallenge/Starter_Code/Starter_Code/Pyramen/Resources/sales_data.csv\",'r') as csvfile:\n",
    "    csvreader = csv.reader(csvfile)\n",
    "    header = next(csvreader)\n",
    "    for row in csvreader:       \n",
    "        sales_data.append([row[0], row[1], row[2], row[3], row[4]])\n"
   ]
  },
  {
   "cell_type": "code",
   "execution_count": 9,
   "id": "f08b2867-760d-4757-8a83-b27527cdf574",
   "metadata": {},
   "outputs": [
    {
     "name": "stdout",
     "output_type": "stream",
     "text": [
      "spicy miso ramen : {'01-count': 9238, '02-count': 110856.0, '03-cogs': 46190.0, '04-profit': 118538.0}\n",
      "tori paitan ramen : {'01-count': 9156, '02-count': 119028.0, '03-cogs': 54936.0, '04-profit': 113988.0}\n",
      "truffle butter ramen : {'01-count': 8982, '02-count': 125748.0, '03-cogs': 62874.0, '04-profit': 111510.0}\n",
      "tonkotsu ramen : {'01-count': 9288, '02-count': 120744.0, '03-cogs': 55728.0, '04-profit': 119728.0}\n",
      "vegetarian spicy miso : {'01-count': 9216, '02-count': 110592.0, '03-cogs': 46080.0, '04-profit': 117460.0}\n",
      "shio ramen : {'01-count': 9180, '02-count': 100980.0, '03-cogs': 45900.0, '04-profit': 100824.0}\n",
      "miso crab ramen : {'01-count': 8890, '02-count': 106680.0, '03-cogs': 53340.0, '04-profit': 97260.0}\n",
      "nagomi shoyu : {'01-count': 9132, '02-count': 100452.0, '03-cogs': 45660.0, '04-profit': 102216.0}\n",
      "soft-shell miso crab ramen : {'01-count': 9130, '02-count': 127820.0, '03-cogs': 63910.0, '04-profit': 116158.0}\n",
      "burnt garlic tonkotsu ramen : {'01-count': 9070, '02-count': 126980.0, '03-cogs': 54420.0, '04-profit': 129840.0}\n",
      "vegetarian curry + king trumpet mushroom ramen : {'01-count': 8824, '02-count': 114712.0, '03-cogs': 61768.0, '04-profit': 92808.0}\n"
     ]
    }
   ],
   "source": [
    "#Initialize an empty report dictionary to hold the future aggregated per-product results. The report dictionary will eventually contain the following metrics:\n",
    "report = {}\n",
    "#Then, loop through every row in the sales list object.\n",
    "#For each row of the sales data, I have set the following columns of the sales data to their own variables:Quantity,Menu_Item\n",
    "for sale in sales_data:\n",
    "   \n",
    "    \n",
    "    quantity = int(sale[3])\n",
    "    \n",
    "    sales_item = sale[4]\n",
    "        \n",
    "        \n",
    "    if report.get(sales_item) == None:\n",
    "        report[sales_item] = {\"01-count\": 0,\n",
    "                              \"02-count\": 0,\n",
    "                              \"03-cogs\": 0,\n",
    "                              \"04-profit\": 0}\n",
    "    menu = menu_data[sales_item]\n",
    "# If sale item present in the menu_data, calculate the sale item's report, for every row make var. price, cost, profit\n",
    "# If the sales_item in sales is equal to the item in menu, capture the quantity \n",
    "# from the sales data and the price and cost from the menu data to calculate the profit for each item.\n",
    "    if menu!=None:\n",
    "        price = float(menu[2])\n",
    "        cost = float(menu[3])\n",
    "        profit = quantity*(price - cost)\n",
    "        report[sales_item][\"01-count\"] += quantity\n",
    "        report[sales_item][\"02-count\"] += price * quantity\n",
    "        report[sales_item][\"03-cogs\"] += cost *quantity\n",
    "        report[sales_item][\"04-profit\"] += profit * quantity\n",
    "    else:\n",
    "        print(f\"{sales_item} has no data\")\n",
    "\n",
    "        \n",
    "for sales_item in report:\n",
    "    print(f\"{sales_item} : {report[sales_item]}\")\n",
    "   \n",
    "output_ = Path(\"PyRamen.txt\")\n",
    "with open(output, \"w\") as file:\n",
    "    file.write(\"Report for Pyramen.\\n \")\n",
    "    for key in report:\n",
    "        file.write(f\"{key} {report[key]} \\n\")\n",
    "    \n"
   ]
  },
  {
   "cell_type": "code",
   "execution_count": null,
   "id": "63665673-a2bb-43ad-8892-a72917f7ad36",
   "metadata": {},
   "outputs": [],
   "source": []
  },
  {
   "cell_type": "code",
   "execution_count": null,
   "id": "651f683b-0088-4096-a2fd-3a40e56f5d61",
   "metadata": {},
   "outputs": [],
   "source": []
  },
  {
   "cell_type": "code",
   "execution_count": null,
   "id": "64d00214-1d65-4b02-9d36-bfb8bd157030",
   "metadata": {},
   "outputs": [],
   "source": []
  },
  {
   "cell_type": "code",
   "execution_count": null,
   "id": "097a4beb-bd1c-436d-ba99-865586ed262f",
   "metadata": {},
   "outputs": [],
   "source": []
  }
 ],
 "metadata": {
  "kernelspec": {
   "display_name": "Python 3 (ipykernel)",
   "language": "python",
   "name": "python3"
  },
  "language_info": {
   "codemirror_mode": {
    "name": "ipython",
    "version": 3
   },
   "file_extension": ".py",
   "mimetype": "text/x-python",
   "name": "python",
   "nbconvert_exporter": "python",
   "pygments_lexer": "ipython3",
   "version": "3.7.13"
  }
 },
 "nbformat": 4,
 "nbformat_minor": 5
}
