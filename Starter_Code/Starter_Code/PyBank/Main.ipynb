{
 "cells": [
  {
   "cell_type": "code",
   "execution_count": 5,
   "id": "99929521-ce80-4a21-8000-a7ccbac362cb",
   "metadata": {},
   "outputs": [],
   "source": [
    "#importing csv and pandas library, loading csv file in data variable\n",
    "import  csv\n",
    "import pandas as pd\n",
    "data = pd.read_csv(\"C:/Users/Admin/Desktop/2ndchallenge/Starter_Code/Starter_Code/PyBank/Resources/budget_data.csv\")\n"
   ]
  },
  {
   "cell_type": "code",
   "execution_count": 6,
   "id": "be59e1ca-c45d-4a18-9f92-344e0e3828d1",
   "metadata": {},
   "outputs": [],
   "source": [
    "# returns a full count of each iteration of the refrenced column\n",
    "num_of_months = data[\"Date\"].count()\n",
    "\n",
    "#.sum adds all value under refrenced column\n",
    "net_total = data[\"Profit/Losses\"].sum()\n",
    "\n",
    "#.median will avergae out the numbers under refrenced column and return the value\n",
    "average_p_l = data[\"Profit/Losses\"].mean()\n",
    "\n",
    "#.min and .max will give the numeral form of the lowest and highest values\n",
    "greatest_profit = data[\"Profit/Losses\"].max()\n",
    "greatest_loss = data[\"Profit/Losses\"].min()\n",
    "\n",
    "#.idmax() will refrence the index at which the max value is given, idmin() will refrence the index at which the min value is given \n",
    "max_profit = data['Profit/Losses'].idxmax() \n",
    "max_loss = data['Profit/Losses'].idxmin()\n",
    "\n",
    "\n",
    "#verification of the data\n",
    "#print(data.iloc[[25]])\n",
    "#print(data.iloc[[44]])\n",
    "date_max_rev = data.iloc[25,0]\n",
    "value_max_rev = data.iloc[25,1]\n",
    "date_min_rev = data.iloc[44,0]\n",
    "value_min_rev = data.iloc[44,1]"
   ]
  },
  {
   "cell_type": "code",
   "execution_count": 7,
   "id": "e3777448-55fa-4f3a-a168-e385c368bcf0",
   "metadata": {},
   "outputs": [],
   "source": [
    "f = open('FinancialAnalysis.txt', 'w')\n",
    "print(\"Financial Analysis\", file = f)\n",
    "print(\"---------------------\", file = f)\n",
    "print(\"Total Months: \" + str(num_of_months), file = f)\n",
    "print(\"Net Profit: \" + str(net_total), file = f)\n",
    "print(\"Average monthly Revenue: \" + str(average_p_l), file = f)\n",
    "print(f\"Highest earnings: {date_max_rev}, ({value_max_rev})\", file = f)\n",
    "print(f\"Lowest earnings: {date_min_rev}, ({value_min_rev}) \", file = f)"
   ]
  },
  {
   "cell_type": "code",
   "execution_count": null,
   "id": "d14dc1c6-28da-4c4b-b521-c41baf8c0c45",
   "metadata": {
    "tags": []
   },
   "outputs": [],
   "source": []
  },
  {
   "cell_type": "code",
   "execution_count": null,
   "id": "8c303fcc-3158-4d5f-9bb3-c47fb4a43c7d",
   "metadata": {},
   "outputs": [],
   "source": []
  },
  {
   "cell_type": "code",
   "execution_count": null,
   "id": "da46a25a-ec5c-4c78-943e-5fe702c188db",
   "metadata": {},
   "outputs": [],
   "source": []
  },
  {
   "cell_type": "code",
   "execution_count": null,
   "id": "2c895945-2d72-4ac7-998b-d1169ea42238",
   "metadata": {},
   "outputs": [],
   "source": []
  },
  {
   "cell_type": "code",
   "execution_count": null,
   "id": "e3488a3d-dfc3-46dc-b688-85d429481c97",
   "metadata": {},
   "outputs": [],
   "source": []
  },
  {
   "cell_type": "code",
   "execution_count": null,
   "id": "904dbb4f-7f5a-44ad-a968-d3b709cce5f7",
   "metadata": {},
   "outputs": [],
   "source": []
  },
  {
   "cell_type": "code",
   "execution_count": null,
   "id": "0af094d1-fa72-4738-b91a-2743f16d114a",
   "metadata": {},
   "outputs": [],
   "source": []
  }
 ],
 "metadata": {
  "kernelspec": {
   "display_name": "Python 3 (ipykernel)",
   "language": "python",
   "name": "python3"
  },
  "language_info": {
   "codemirror_mode": {
    "name": "ipython",
    "version": 3
   },
   "file_extension": ".py",
   "mimetype": "text/x-python",
   "name": "python",
   "nbconvert_exporter": "python",
   "pygments_lexer": "ipython3",
   "version": "3.7.13"
  }
 },
 "nbformat": 4,
 "nbformat_minor": 5
}
